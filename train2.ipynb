{
  "nbformat": 4,
  "nbformat_minor": 0,
  "metadata": {
    "colab": {
      "name": "DeepLearningFinal",
      "provenance": [],
      "collapsed_sections": []
    },
    "kernelspec": {
      "name": "python3",
      "display_name": "Python 3"
    },
    "accelerator": "GPU"
  },
  "cells": [
    {
      "cell_type": "code",
      "metadata": {
        "id": "35aWfMCEliIR",
        "colab_type": "code",
        "colab": {
          "base_uri": "https://localhost:8080/",
          "height": 33
        },
        "outputId": "13740805-a556-4bf1-e66a-a439b899e405"
      },
      "source": [
        "import tensorflow as tf\n",
        "\n",
        "from tensorflow.keras import datasets, layers, models\n",
        "from sklearn.model_selection import train_test_split\n",
        "import matplotlib.pyplot as plt\n",
        "import numpy as np\n",
        "from sklearn.metrics import roc_curve\n",
        "\n",
        "print(\"Num GPUs Available: \", len(tf.config.experimental.list_physical_devices('GPU')))"
      ],
      "execution_count": 1,
      "outputs": [
        {
          "output_type": "stream",
          "text": [
            "Num GPUs Available:  1\n"
          ],
          "name": "stdout"
        }
      ]
    },
    {
      "cell_type": "code",
      "metadata": {
        "id": "-UYSJ7mJmWKi",
        "colab_type": "code",
        "colab": {
          "base_uri": "https://localhost:8080/",
          "height": 118
        },
        "outputId": "97ef5e66-599e-43cd-af72-6fa538c7cfd6"
      },
      "source": [
        "from google.colab import drive\n",
        "drive.mount('/content/drive')"
      ],
      "execution_count": 5,
      "outputs": [
        {
          "output_type": "stream",
          "text": [
            "Go to this URL in a browser: https://accounts.google.com/o/oauth2/auth?client_id=947318989803-6bn6qk8qdgf4n4g3pfee6491hc0brc4i.apps.googleusercontent.com&redirect_uri=urn%3aietf%3awg%3aoauth%3a2.0%3aoob&response_type=code&scope=email%20https%3a%2f%2fwww.googleapis.com%2fauth%2fdocs.test%20https%3a%2f%2fwww.googleapis.com%2fauth%2fdrive%20https%3a%2f%2fwww.googleapis.com%2fauth%2fdrive.photos.readonly%20https%3a%2f%2fwww.googleapis.com%2fauth%2fpeopleapi.readonly\n",
            "\n",
            "Enter your authorization code:\n",
            "··········\n",
            "Mounted at /content/drive\n"
          ],
          "name": "stdout"
        }
      ]
    },
    {
      "cell_type": "code",
      "metadata": {
        "id": "iIuTEbNg-sNh",
        "colab_type": "code",
        "colab": {}
      },
      "source": [
        "inFile = 'full'\n",
        "images = np.load('drive/My Drive/' + inFile + '_images.npy', mmap_mode='r')\n",
        "labels = np.load('drive/My Drive/' + inFile + '_labels.npy', mmap_mode='r')"
      ],
      "execution_count": 0,
      "outputs": []
    },
    {
      "cell_type": "code",
      "metadata": {
        "id": "1NxkRnRIluox",
        "colab_type": "code",
        "colab": {
          "base_uri": "https://localhost:8080/",
          "height": 391
        },
        "outputId": "927f0575-d86d-479f-dc66-f4200bf3f3ce"
      },
      "source": [
        "X_train, X_test, y_train, y_test = train_test_split(images, labels, test_size=0.2)\n",
        "\n",
        "model = models.Sequential()\n",
        "model.add(layers.Conv2D(filters=512, kernel_size=(3, 3), strides=2, activation='relu', input_shape=(512, 512, 1)))\n",
        "model.add(layers.MaxPooling2D((3, 3)))\n",
        "model.add(layers.Conv2D(filters=2*512, kernel_size=(3, 3), strides=1, activation='relu'))\n",
        "model.add(layers.MaxPooling2D((3, 3)))\n",
        "model.add(layers.Conv2D(4*512, (3, 3), activation='relu'))\n",
        "model.add(layers.GlobalAveragePooling2D())\n",
        "model.add(layers.Dense(1, activation='sigmoid'))\n",
        "\n",
        "print(model.summary())"
      ],
      "execution_count": 44,
      "outputs": [
        {
          "output_type": "stream",
          "text": [
            "Model: \"sequential_10\"\n",
            "_________________________________________________________________\n",
            "Layer (type)                 Output Shape              Param #   \n",
            "=================================================================\n",
            "conv2d_29 (Conv2D)           (None, 255, 255, 512)     5120      \n",
            "_________________________________________________________________\n",
            "max_pooling2d_19 (MaxPooling (None, 85, 85, 512)       0         \n",
            "_________________________________________________________________\n",
            "conv2d_30 (Conv2D)           (None, 83, 83, 1024)      4719616   \n",
            "_________________________________________________________________\n",
            "max_pooling2d_20 (MaxPooling (None, 27, 27, 1024)      0         \n",
            "_________________________________________________________________\n",
            "conv2d_31 (Conv2D)           (None, 25, 25, 2048)      18876416  \n",
            "_________________________________________________________________\n",
            "global_average_pooling2d (Gl (None, 2048)              0         \n",
            "_________________________________________________________________\n",
            "dense_15 (Dense)             (None, 1)                 2049      \n",
            "=================================================================\n",
            "Total params: 23,603,201\n",
            "Trainable params: 23,603,201\n",
            "Non-trainable params: 0\n",
            "_________________________________________________________________\n",
            "None\n"
          ],
          "name": "stdout"
        }
      ]
    },
    {
      "cell_type": "code",
      "metadata": {
        "id": "wQt_1N39lqr2",
        "colab_type": "code",
        "colab": {
          "base_uri": "https://localhost:8080/",
          "height": 687
        },
        "outputId": "1f612afb-7826-49c6-d6ab-713588e006ba"
      },
      "source": [
        "model.compile(optimizer='adam',\n",
        "              loss=tf.keras.losses.BinaryCrossentropy(from_logits=False),\n",
        "              metrics=['accuracy', tf.keras.metrics.AUC()]) #'FalseNegatives', 'FalsePositives'])\n",
        "\n",
        "\n",
        "history = model.fit(X_train, y_train, epochs=20,batch_size=8,\n",
        "                    validation_data=(X_test, y_test))"
      ],
      "execution_count": 45,
      "outputs": [
        {
          "output_type": "stream",
          "text": [
            "Epoch 1/20\n",
            "80/80 [==============================] - 17s 214ms/step - loss: 0.7637 - accuracy: 0.5219 - auc_12: 0.5086 - val_loss: 0.6938 - val_accuracy: 0.4688 - val_auc_12: 0.5000\n",
            "Epoch 2/20\n",
            "80/80 [==============================] - 17s 212ms/step - loss: 0.6936 - accuracy: 0.5125 - auc_12: 0.4991 - val_loss: 0.6934 - val_accuracy: 0.4688 - val_auc_12: 0.6090\n",
            "Epoch 3/20\n",
            "80/80 [==============================] - 17s 211ms/step - loss: 0.6939 - accuracy: 0.5437 - auc_12: 0.5318 - val_loss: 0.6941 - val_accuracy: 0.4688 - val_auc_12: 0.5000\n",
            "Epoch 4/20\n",
            "80/80 [==============================] - 17s 211ms/step - loss: 0.6931 - accuracy: 0.5172 - auc_12: 0.4792 - val_loss: 0.6945 - val_accuracy: 0.4688 - val_auc_12: 0.5000\n",
            "Epoch 5/20\n",
            "80/80 [==============================] - 17s 211ms/step - loss: 0.6927 - accuracy: 0.5172 - auc_12: 0.4877 - val_loss: 0.6950 - val_accuracy: 0.4688 - val_auc_12: 0.5000\n",
            "Epoch 6/20\n",
            "80/80 [==============================] - 17s 211ms/step - loss: 0.6936 - accuracy: 0.5266 - auc_12: 0.5373 - val_loss: 0.6807 - val_accuracy: 0.4750 - val_auc_12: 0.7253\n",
            "Epoch 7/20\n",
            "80/80 [==============================] - 17s 211ms/step - loss: 0.6811 - accuracy: 0.5875 - auc_12: 0.6468 - val_loss: 0.6683 - val_accuracy: 0.5750 - val_auc_12: 0.7461\n",
            "Epoch 8/20\n",
            "80/80 [==============================] - 17s 211ms/step - loss: 0.6754 - accuracy: 0.5891 - auc_12: 0.6384 - val_loss: 0.6724 - val_accuracy: 0.4688 - val_auc_12: 0.7243\n",
            "Epoch 9/20\n",
            "80/80 [==============================] - 17s 211ms/step - loss: 0.6678 - accuracy: 0.5766 - auc_12: 0.6841 - val_loss: 0.6581 - val_accuracy: 0.6812 - val_auc_12: 0.7278\n",
            "Epoch 10/20\n",
            "80/80 [==============================] - 17s 211ms/step - loss: 0.6463 - accuracy: 0.6906 - auc_12: 0.7381 - val_loss: 0.6370 - val_accuracy: 0.7000 - val_auc_12: 0.7455\n",
            "Epoch 11/20\n",
            "80/80 [==============================] - 17s 211ms/step - loss: 0.6257 - accuracy: 0.7078 - auc_12: 0.7338 - val_loss: 0.6066 - val_accuracy: 0.7188 - val_auc_12: 0.7663\n",
            "Epoch 12/20\n",
            "80/80 [==============================] - 17s 211ms/step - loss: 0.6033 - accuracy: 0.7156 - auc_12: 0.7478 - val_loss: 0.6056 - val_accuracy: 0.7000 - val_auc_12: 0.7606\n",
            "Epoch 13/20\n",
            "80/80 [==============================] - 17s 211ms/step - loss: 0.5997 - accuracy: 0.7141 - auc_12: 0.7373 - val_loss: 0.6011 - val_accuracy: 0.7125 - val_auc_12: 0.7605\n",
            "Epoch 14/20\n",
            "80/80 [==============================] - 17s 211ms/step - loss: 0.6040 - accuracy: 0.7094 - auc_12: 0.7343 - val_loss: 0.5718 - val_accuracy: 0.7250 - val_auc_12: 0.7838\n",
            "Epoch 15/20\n",
            "80/80 [==============================] - 17s 211ms/step - loss: 0.5885 - accuracy: 0.7063 - auc_12: 0.7487 - val_loss: 0.5829 - val_accuracy: 0.7063 - val_auc_12: 0.7651\n",
            "Epoch 16/20\n",
            "80/80 [==============================] - 17s 211ms/step - loss: 0.5749 - accuracy: 0.7219 - auc_12: 0.7444 - val_loss: 0.5577 - val_accuracy: 0.7125 - val_auc_12: 0.7891\n",
            "Epoch 17/20\n",
            "80/80 [==============================] - 17s 211ms/step - loss: 0.5729 - accuracy: 0.7141 - auc_12: 0.7547 - val_loss: 0.5982 - val_accuracy: 0.6875 - val_auc_12: 0.7558\n",
            "Epoch 18/20\n",
            "80/80 [==============================] - 17s 211ms/step - loss: 0.5807 - accuracy: 0.7188 - auc_12: 0.7430 - val_loss: 0.5578 - val_accuracy: 0.7000 - val_auc_12: 0.7864\n",
            "Epoch 19/20\n",
            "80/80 [==============================] - 17s 211ms/step - loss: 0.5661 - accuracy: 0.7234 - auc_12: 0.7697 - val_loss: 0.5817 - val_accuracy: 0.7125 - val_auc_12: 0.7615\n",
            "Epoch 20/20\n",
            "80/80 [==============================] - 17s 211ms/step - loss: 0.5788 - accuracy: 0.7172 - auc_12: 0.7375 - val_loss: 0.5899 - val_accuracy: 0.7000 - val_auc_12: 0.7589\n"
          ],
          "name": "stdout"
        }
      ]
    },
    {
      "cell_type": "code",
      "metadata": {
        "id": "QmqOfaKJlsDU",
        "colab_type": "code",
        "colab": {
          "base_uri": "https://localhost:8080/",
          "height": 563
        },
        "outputId": "1f897bde-ceb2-4a26-c606-dafb7c9810b1"
      },
      "source": [
        "plt.plot(history.history['accuracy'], label='accuracy')\n",
        "plt.plot(history.history['val_accuracy'], label = 'val_accuracy')\n",
        "plt.xlabel('Epoch')\n",
        "plt.ylabel('Accuracy')\n",
        "plt.ylim([0.5, 1])\n",
        "plt.legend(loc='lower right')\n",
        "plt.show()\n",
        "\n",
        "test_loss, test_acc, test_acc = model.evaluate(X_test,  y_test, verbose=2)\n",
        "\n",
        "print(test_acc)\n",
        "\n",
        "y_pred = model.predict(X_test).ravel()\n",
        "fpr, tpr, threshold = roc_curve(y_test, y_pred)\n",
        "\n",
        "plt.plot([0,1], [0,1], 'k--')\n",
        "plt.plot(fpr, tpr)\n",
        "plt.show()"
      ],
      "execution_count": 42,
      "outputs": [
        {
          "output_type": "display_data",
          "data": {
            "image/png": "[encoded data removed]",
            "text/plain": [
              "<Figure size 432x288 with 1 Axes>"
            ]
          },
          "metadata": {
            "tags": [],
            "needs_background": "light"
          }
        },
        {
          "output_type": "stream",
          "text": [
            "5/5 - 1s - loss: 2.5987 - accuracy: 0.7500 - auc_11: 0.7910\n",
            "0.7910401225090027\n"
          ],
          "name": "stdout"
        },
        {
          "output_type": "display_data",
          "data": {
            "image/png": "[encoded data removed]",
            "text/plain": [
              "<Figure size 432x288 with 1 Axes>"
            ]
          },
          "metadata": {
            "tags": [],
            "needs_background": "light"
          }
        }
      ]
    },
    {
      "cell_type": "code",
      "metadata": {
        "id": "Rscw2qpt_p6P",
        "colab_type": "code",
        "colab": {
          "base_uri": "https://localhost:8080/",
          "height": 33
        },
        "outputId": "a3f9c289-0d39-4259-9aff-5dd519ae8f4c"
      },
      "source": [
        "y_test.shape"
      ],
      "execution_count": 23,
      "outputs": [
        {
          "output_type": "execute_result",
          "data": {
            "text/plain": [
              "(160,)"
            ]
          },
          "metadata": {
            "tags": []
          },
          "execution_count": 23
        }
      ]
    },
    {
      "cell_type": "code",
      "metadata": {
        "id": "gX1KavtEAaBY",
        "colab_type": "code",
        "colab": {}
      },
      "source": [
        ""
      ],
      "execution_count": 0,
      "outputs": []
    }
  ]
}